{
  "cells": [
    {
      "cell_type": "code",
      "source": [
        "!git clone https://github.com/RichardStaszkiewicz/CNN-Hyperparameter-Tuning.git\n",
        "!mv /content/CNN-Hyperparameter-Tuning/modules /content/modules\n",
        "!mv /content/CNN-Hyperparameter-Tuning/model /content/model\n",
        "!mkdir logs\n",
        "!pip install \"ray[tune]\" torch torchvision pytorch-lightning"
      ],
      "metadata": {
        "id": "5ORGbeAERrf6",
        "colab": {
          "base_uri": "https://localhost:8080/"
        },
        "outputId": "36de5d03-8374-4877-d896-043fce89c47e"
      },
      "execution_count": 1,
      "outputs": [
        {
          "output_type": "stream",
          "name": "stdout",
          "text": [
            "Cloning into 'CNN-Hyperparameter-Tuning'...\n",
            "remote: Enumerating objects: 40, done.\u001b[K\n",
            "remote: Counting objects: 100% (40/40), done.\u001b[K\n",
            "remote: Compressing objects: 100% (32/32), done.\u001b[K\n",
            "remote: Total 40 (delta 12), reused 30 (delta 5), pack-reused 0\u001b[K\n",
            "Receiving objects: 100% (40/40), 88.77 KiB | 1.67 MiB/s, done.\n",
            "Resolving deltas: 100% (12/12), done.\n",
            "Collecting ray[tune]\n",
            "  Downloading ray-2.6.3-cp310-cp310-manylinux2014_x86_64.whl (56.9 MB)\n",
            "\u001b[2K     \u001b[90m━━━━━━━━━━━━━━━━━━━━━━━━━━━━━━━━━━━━━━━━\u001b[0m \u001b[32m56.9/56.9 MB\u001b[0m \u001b[31m17.5 MB/s\u001b[0m eta \u001b[36m0:00:00\u001b[0m\n",
            "\u001b[?25hRequirement already satisfied: torch in /usr/local/lib/python3.10/dist-packages (2.0.1+cu118)\n",
            "Requirement already satisfied: torchvision in /usr/local/lib/python3.10/dist-packages (0.15.2+cu118)\n",
            "Collecting pytorch-lightning\n",
            "  Downloading pytorch_lightning-2.0.8-py3-none-any.whl (727 kB)\n",
            "\u001b[2K     \u001b[90m━━━━━━━━━━━━━━━━━━━━━━━━━━━━━━━━━━━━━━\u001b[0m \u001b[32m727.0/727.0 kB\u001b[0m \u001b[31m46.3 MB/s\u001b[0m eta \u001b[36m0:00:00\u001b[0m\n",
            "\u001b[?25hRequirement already satisfied: click>=7.0 in /usr/local/lib/python3.10/dist-packages (from ray[tune]) (8.1.7)\n",
            "Requirement already satisfied: filelock in /usr/local/lib/python3.10/dist-packages (from ray[tune]) (3.12.2)\n",
            "Requirement already satisfied: jsonschema in /usr/local/lib/python3.10/dist-packages (from ray[tune]) (4.19.0)\n",
            "Requirement already satisfied: msgpack<2.0.0,>=1.0.0 in /usr/local/lib/python3.10/dist-packages (from ray[tune]) (1.0.5)\n",
            "Requirement already satisfied: packaging in /usr/local/lib/python3.10/dist-packages (from ray[tune]) (23.1)\n",
            "Requirement already satisfied: protobuf!=3.19.5,>=3.15.3 in /usr/local/lib/python3.10/dist-packages (from ray[tune]) (3.20.3)\n",
            "Requirement already satisfied: pyyaml in /usr/local/lib/python3.10/dist-packages (from ray[tune]) (6.0.1)\n",
            "Requirement already satisfied: aiosignal in /usr/local/lib/python3.10/dist-packages (from ray[tune]) (1.3.1)\n",
            "Requirement already satisfied: frozenlist in /usr/local/lib/python3.10/dist-packages (from ray[tune]) (1.4.0)\n",
            "Requirement already satisfied: requests in /usr/local/lib/python3.10/dist-packages (from ray[tune]) (2.31.0)\n",
            "Requirement already satisfied: grpcio>=1.42.0 in /usr/local/lib/python3.10/dist-packages (from ray[tune]) (1.57.0)\n",
            "Requirement already satisfied: numpy>=1.19.3 in /usr/local/lib/python3.10/dist-packages (from ray[tune]) (1.23.5)\n",
            "Requirement already satisfied: pandas in /usr/local/lib/python3.10/dist-packages (from ray[tune]) (1.5.3)\n",
            "Collecting tensorboardX>=1.9 (from ray[tune])\n",
            "  Downloading tensorboardX-2.6.2.2-py2.py3-none-any.whl (101 kB)\n",
            "\u001b[2K     \u001b[90m━━━━━━━━━━━━━━━━━━━━━━━━━━━━━━━━━━━━━━\u001b[0m \u001b[32m101.7/101.7 kB\u001b[0m \u001b[31m13.0 MB/s\u001b[0m eta \u001b[36m0:00:00\u001b[0m\n",
            "\u001b[?25hRequirement already satisfied: pyarrow>=6.0.1 in /usr/local/lib/python3.10/dist-packages (from ray[tune]) (9.0.0)\n",
            "Requirement already satisfied: typing-extensions in /usr/local/lib/python3.10/dist-packages (from torch) (4.7.1)\n",
            "Requirement already satisfied: sympy in /usr/local/lib/python3.10/dist-packages (from torch) (1.12)\n",
            "Requirement already satisfied: networkx in /usr/local/lib/python3.10/dist-packages (from torch) (3.1)\n",
            "Requirement already satisfied: jinja2 in /usr/local/lib/python3.10/dist-packages (from torch) (3.1.2)\n",
            "Requirement already satisfied: triton==2.0.0 in /usr/local/lib/python3.10/dist-packages (from torch) (2.0.0)\n",
            "Requirement already satisfied: cmake in /usr/local/lib/python3.10/dist-packages (from triton==2.0.0->torch) (3.27.2)\n",
            "Requirement already satisfied: lit in /usr/local/lib/python3.10/dist-packages (from triton==2.0.0->torch) (16.0.6)\n",
            "Requirement already satisfied: pillow!=8.3.*,>=5.3.0 in /usr/local/lib/python3.10/dist-packages (from torchvision) (9.4.0)\n",
            "Requirement already satisfied: tqdm>=4.57.0 in /usr/local/lib/python3.10/dist-packages (from pytorch-lightning) (4.66.1)\n",
            "Requirement already satisfied: fsspec[http]>2021.06.0 in /usr/local/lib/python3.10/dist-packages (from pytorch-lightning) (2023.6.0)\n",
            "Collecting torchmetrics>=0.7.0 (from pytorch-lightning)\n",
            "  Downloading torchmetrics-1.1.1-py3-none-any.whl (763 kB)\n",
            "\u001b[2K     \u001b[90m━━━━━━━━━━━━━━━━━━━━━━━━━━━━━━━━━━━━━━\u001b[0m \u001b[32m763.4/763.4 kB\u001b[0m \u001b[31m56.5 MB/s\u001b[0m eta \u001b[36m0:00:00\u001b[0m\n",
            "\u001b[?25hCollecting lightning-utilities>=0.7.0 (from pytorch-lightning)\n",
            "  Downloading lightning_utilities-0.9.0-py3-none-any.whl (23 kB)\n",
            "Requirement already satisfied: aiohttp!=4.0.0a0,!=4.0.0a1 in /usr/local/lib/python3.10/dist-packages (from fsspec[http]>2021.06.0->pytorch-lightning) (3.8.5)\n",
            "Requirement already satisfied: MarkupSafe>=2.0 in /usr/local/lib/python3.10/dist-packages (from jinja2->torch) (2.1.3)\n",
            "Requirement already satisfied: attrs>=22.2.0 in /usr/local/lib/python3.10/dist-packages (from jsonschema->ray[tune]) (23.1.0)\n",
            "Requirement already satisfied: jsonschema-specifications>=2023.03.6 in /usr/local/lib/python3.10/dist-packages (from jsonschema->ray[tune]) (2023.7.1)\n",
            "Requirement already satisfied: referencing>=0.28.4 in /usr/local/lib/python3.10/dist-packages (from jsonschema->ray[tune]) (0.30.2)\n",
            "Requirement already satisfied: rpds-py>=0.7.1 in /usr/local/lib/python3.10/dist-packages (from jsonschema->ray[tune]) (0.9.2)\n",
            "Requirement already satisfied: python-dateutil>=2.8.1 in /usr/local/lib/python3.10/dist-packages (from pandas->ray[tune]) (2.8.2)\n",
            "Requirement already satisfied: pytz>=2020.1 in /usr/local/lib/python3.10/dist-packages (from pandas->ray[tune]) (2023.3)\n",
            "Requirement already satisfied: charset-normalizer<4,>=2 in /usr/local/lib/python3.10/dist-packages (from requests->ray[tune]) (3.2.0)\n",
            "Requirement already satisfied: idna<4,>=2.5 in /usr/local/lib/python3.10/dist-packages (from requests->ray[tune]) (3.4)\n",
            "Requirement already satisfied: urllib3<3,>=1.21.1 in /usr/local/lib/python3.10/dist-packages (from requests->ray[tune]) (2.0.4)\n",
            "Requirement already satisfied: certifi>=2017.4.17 in /usr/local/lib/python3.10/dist-packages (from requests->ray[tune]) (2023.7.22)\n",
            "Requirement already satisfied: mpmath>=0.19 in /usr/local/lib/python3.10/dist-packages (from sympy->torch) (1.3.0)\n",
            "Requirement already satisfied: multidict<7.0,>=4.5 in /usr/local/lib/python3.10/dist-packages (from aiohttp!=4.0.0a0,!=4.0.0a1->fsspec[http]>2021.06.0->pytorch-lightning) (6.0.4)\n",
            "Requirement already satisfied: async-timeout<5.0,>=4.0.0a3 in /usr/local/lib/python3.10/dist-packages (from aiohttp!=4.0.0a0,!=4.0.0a1->fsspec[http]>2021.06.0->pytorch-lightning) (4.0.3)\n",
            "Requirement already satisfied: yarl<2.0,>=1.0 in /usr/local/lib/python3.10/dist-packages (from aiohttp!=4.0.0a0,!=4.0.0a1->fsspec[http]>2021.06.0->pytorch-lightning) (1.9.2)\n",
            "Requirement already satisfied: six>=1.5 in /usr/local/lib/python3.10/dist-packages (from python-dateutil>=2.8.1->pandas->ray[tune]) (1.16.0)\n",
            "Installing collected packages: tensorboardX, lightning-utilities, ray, torchmetrics, pytorch-lightning\n",
            "Successfully installed lightning-utilities-0.9.0 pytorch-lightning-2.0.8 ray-2.6.3 tensorboardX-2.6.2.2 torchmetrics-1.1.1\n"
          ]
        }
      ]
    },
    {
      "cell_type": "code",
      "execution_count": 2,
      "metadata": {
        "id": "a7brIpszRfI-"
      },
      "outputs": [],
      "source": [
        "from modules import plmodules as plm\n",
        "from ray import tune, air\n",
        "from ray.tune import CLIReporter\n",
        "from ray.tune.schedulers import ASHAScheduler, PopulationBasedTraining\n",
        "from ray.tune.integration.pytorch_lightning import TuneReportCallback, TuneReportCheckpointCallback\n",
        "import pytorch_lightning as pl\n",
        "import yaml"
      ]
    },
    {
      "cell_type": "markdown",
      "source": [
        "## Config"
      ],
      "metadata": {
        "id": "yHgLubi9UoQb"
      }
    },
    {
      "cell_type": "code",
      "execution_count": 4,
      "metadata": {
        "id": "tEJHQWxLRfJM"
      },
      "outputs": [],
      "source": [
        "with open(\"/content/model/configs/model.yaml\", 'r') as stream:\n",
        "      default_config=yaml.safe_load(stream)\n",
        "\n",
        "default_config = default_config['model']"
      ]
    },
    {
      "cell_type": "code",
      "source": [
        "search_config = {\n",
        "    \"batch_size\": tune.grid_search([64, 128, 256]),\n",
        "    \"lr\": tune.grid_search([0.01, 0.1]),\n",
        "    \"mlp_out_l0\": tune.grid_search([64, 128]),\n",
        "    \"mlp_af_l0\": tune.grid_search(['relu', 'None']),\n",
        "    \"mlp_bn_l0\": tune.grid_search([True, False]),\n",
        "    \"mlp_do_l0\": tune.grid_search([0.1, 0.3])\n",
        "}"
      ],
      "metadata": {
        "id": "GI_UeKBdU1TT"
      },
      "execution_count": 5,
      "outputs": []
    },
    {
      "cell_type": "code",
      "source": [
        "config = default_config | search_config"
      ],
      "metadata": {
        "id": "muox8ehZV-k-"
      },
      "execution_count": 6,
      "outputs": []
    },
    {
      "cell_type": "markdown",
      "source": [
        "## Scheduers"
      ],
      "metadata": {
        "id": "PAjHEGZ1Uqb1"
      }
    },
    {
      "cell_type": "code",
      "source": [
        "scheduler_asha = ASHAScheduler(\n",
        "    time_attr=\"time_total_s\",\n",
        "    max_t=300,\n",
        "    grace_period=100,\n",
        "    reduction_factor=2,\n",
        ")"
      ],
      "metadata": {
        "id": "2eyEp58SW3it"
      },
      "execution_count": 21,
      "outputs": []
    },
    {
      "cell_type": "markdown",
      "source": [
        "## Callbacks"
      ],
      "metadata": {
        "id": "6SLv5DQdXri8"
      }
    },
    {
      "cell_type": "code",
      "source": [
        "tune_report_callback = TuneReportCheckpointCallback(\n",
        "    metrics={\n",
        "    \"ptl/train_loss\": \"ptl/train_loss\",\n",
        "    'ptl/train_accuracy': 'ptl/train_accuracy',\n",
        "    'ptl/val_loss': 'ptl/val_loss',\n",
        "    'ptl/val_accuracy': 'ptl/val_accuracy',\n",
        "    'time_total_s': 'time_total_s',\n",
        "    },\n",
        "    filename=\"ray_ckpt\",\n",
        "    on=\"validation_end\",\n",
        ")"
      ],
      "metadata": {
        "id": "lW3i1zSwXq8d"
      },
      "execution_count": 8,
      "outputs": []
    },
    {
      "cell_type": "markdown",
      "source": [
        "## Trainable"
      ],
      "metadata": {
        "id": "UoolFybHYez4"
      }
    },
    {
      "cell_type": "code",
      "source": [
        "def actualise_config(config):\n",
        "  mlp = [int(k.replace(\"mlp_out_l\", '')) for k in config.keys() if \"mlp_out_l\" in k]\n",
        "  for l in mlp:\n",
        "    config[\"mlp_config\"]['block_list'][l]['out_size'] = config[f\"mlp_out_l{l}\"]\n",
        "    config[\"mlp_config\"]['block_list'][l+1]['in_size'] = config[f\"mlp_out_l{l}\"]\n",
        "  mlp = [int(k.replace(\"mlp_af_l\", '')) for k in config.keys() if \"mlp_af_l\" in k]\n",
        "  for af in mlp:\n",
        "    config[\"mlp_config\"]['block_list'][af]['activation_fun'] = config[f\"mlp_af_l{af}\"]\n",
        "  mlp = [int(k.replace(\"mlp_bn_l\", '')) for k in config.keys() if \"mlp_bn_l\" in k]\n",
        "  for bn in mlp:\n",
        "    config[\"mlp_config\"]['block_list'][bn]['batch_norm'] = config[f\"mlp_bn_l{bn}\"]\n",
        "  mlp = [int(k.replace(\"mlp_do_l\", '')) for k in config.keys() if \"mlp_do_l\" in k]\n",
        "  for do in mlp:\n",
        "    config[\"mlp_config\"]['block_list'][do]['dropout'] = config[f\"mlp_do_l{do}\"]\n",
        "  return config"
      ],
      "metadata": {
        "id": "_u71XJl4aRMX"
      },
      "execution_count": 9,
      "outputs": []
    },
    {
      "cell_type": "code",
      "source": [
        "def run_with_tune(config, epochs=50):\n",
        "    config = actualise_config(config)\n",
        "    model = plm.MNISTClassifier(config)\n",
        "    dm = plm.MNISTDataModule(config['batch_size'])\n",
        "    trainer = pl.Trainer(\n",
        "        max_epochs=epochs,\n",
        "        fast_dev_run=False,\n",
        "        callbacks=[\n",
        "            tune_report_callback,\n",
        "        ],\n",
        "    )\n",
        "    trainer.fit(model, dm)"
      ],
      "metadata": {
        "id": "MiBrK6ryYeZP"
      },
      "execution_count": 10,
      "outputs": []
    },
    {
      "cell_type": "markdown",
      "source": [
        "## Reporter"
      ],
      "metadata": {
        "id": "N3M2Qa5MZvxE"
      }
    },
    {
      "cell_type": "code",
      "source": [
        "reporter = CLIReporter(\n",
        "    parameter_columns=[search_config.keys()],\n",
        "    metric_columns=[ \"time_total_s\", \"ptl/train_accuracy\", \"ptl/val_loss\", \"ptl/val_accuracy\", \"training_iteration\"]\n",
        ")"
      ],
      "metadata": {
        "id": "9Gr00VcLZvS3"
      },
      "execution_count": 11,
      "outputs": []
    },
    {
      "cell_type": "markdown",
      "source": [
        "## Trial"
      ],
      "metadata": {
        "id": "NBEbEuIJflG2"
      }
    },
    {
      "cell_type": "code",
      "source": [
        "train_fn_with_parameters = tune.with_parameters(run_with_tune, epochs=50)"
      ],
      "metadata": {
        "id": "TkcidLA9gNQE"
      },
      "execution_count": 12,
      "outputs": []
    },
    {
      "cell_type": "code",
      "source": [
        "resources_per_trial = {\"cpu\": 2, \"gpu\": 1}"
      ],
      "metadata": {
        "id": "9HNB79EPgbwL"
      },
      "execution_count": 18,
      "outputs": []
    },
    {
      "cell_type": "code",
      "source": [
        "tuner = tune.Tuner(\n",
        "        tune.with_resources(\n",
        "            train_fn_with_parameters,\n",
        "            resources=resources_per_trial\n",
        "        ),\n",
        "        tune_config=tune.TuneConfig(\n",
        "            metric=\"ptl/val_loss\",\n",
        "            mode=\"min\",\n",
        "            search_alg=tune.search.BasicVariantGenerator(),\n",
        "            #time_budget_s=600,\n",
        "            scheduler=scheduler_asha,\n",
        "            #num_samples=-1,\n",
        "        ),\n",
        "        run_config=air.RunConfig(\n",
        "            name=\"tune_mnist_asha\",\n",
        "            progress_reporter=reporter,\n",
        "        ),\n",
        "        param_space=config,\n",
        "    )\n",
        "results = tuner.fit()"
      ],
      "metadata": {
        "colab": {
          "base_uri": "https://localhost:8080/"
        },
        "id": "BR6QGeVvZpso",
        "outputId": "37d1f8c1-42bd-4543-c832-097c20f4ab48"
      },
      "execution_count": 22,
      "outputs": [
        {
          "output_type": "stream",
          "name": "stderr",
          "text": [
            "2023-09-02 15:59:37,161\tINFO tune.py:666 -- [output] This will use the new output engine with verbosity 1. To disable the new output and use the legacy output engine, set the environment variable RAY_AIR_NEW_OUTPUT=0. For more information, please see https://github.com/ray-project/ray/issues/36949\n",
            "2023-09-02 15:59:37,175\tWARNING tune.py:997 -- AIR_VERBOSITY is set, ignoring passed-in ProgressReporter for now.\n"
          ]
        },
        {
          "output_type": "stream",
          "name": "stdout",
          "text": [
            "\u001b[2m\u001b[36m(run_with_tune pid=2421)\u001b[0m \n",
            "\u001b[2m\u001b[36m(run_with_tune pid=2421)\u001b[0m \rValidation DataLoader 0:  11%|█         | 20/188 [00:00<00:02, 58.06it/s]\u001b[A\n",
            "+----------------------------------------------------------+\n",
            "| Configuration for experiment     tune_mnist_asha         |\n",
            "+----------------------------------------------------------+\n",
            "| Search algorithm                 BasicVariantGenerator   |\n",
            "| Scheduler                        AsyncHyperBandScheduler |\n",
            "| Number of trials                 96                      |\n",
            "+----------------------------------------------------------+\n",
            "\n",
            "View detailed results here: /root/ray_results/tune_mnist_asha\n",
            "To visualize your results with TensorBoard, run: `tensorboard --logdir /root/ray_results/tune_mnist_asha`\n",
            "\n",
            "Trial status: 16 PENDING\n",
            "Current time: 2023-09-02 15:59:37. Total running time: 0s\n",
            "Logical resource usage: 0/2 CPUs, 0/1 GPUs\n",
            "+---------------------------------------------------------------------------------------------------------------------+\n",
            "| Trial name                  status       batch_size     lr     mlp_out_l0   mlp_af_l0     mlp_bn_l0       mlp_do_l0 |\n",
            "+---------------------------------------------------------------------------------------------------------------------+\n",
            "| run_with_tune_b7795_00000   PENDING              64   0.01             64   relu          True                  0.1 |\n",
            "| run_with_tune_b7795_00001   PENDING             128   0.01             64   relu          True                  0.1 |\n",
            "| run_with_tune_b7795_00002   PENDING             256   0.01             64   relu          True                  0.1 |\n",
            "| run_with_tune_b7795_00003   PENDING              64   0.1              64   relu          True                  0.1 |\n",
            "| run_with_tune_b7795_00004   PENDING             128   0.1              64   relu          True                  0.1 |\n",
            "| run_with_tune_b7795_00005   PENDING             256   0.1              64   relu          True                  0.1 |\n",
            "| run_with_tune_b7795_00006   PENDING              64   0.01             64   None          True                  0.1 |\n",
            "| run_with_tune_b7795_00007   PENDING             128   0.01             64   None          True                  0.1 |\n",
            "| run_with_tune_b7795_00008   PENDING             256   0.01             64   None          True                  0.1 |\n",
            "| run_with_tune_b7795_00009   PENDING              64   0.1              64   None          True                  0.1 |\n",
            "| run_with_tune_b7795_00010   PENDING             128   0.1              64   None          True                  0.1 |\n",
            "| run_with_tune_b7795_00011   PENDING             256   0.1              64   None          True                  0.1 |\n",
            "| run_with_tune_b7795_00012   PENDING              64   0.01             64   relu          False                 0.1 |\n",
            "| run_with_tune_b7795_00013   PENDING             128   0.01             64   relu          False                 0.1 |\n",
            "| run_with_tune_b7795_00014   PENDING             256   0.01             64   relu          False                 0.1 |\n",
            "| run_with_tune_b7795_00015   PENDING              64   0.1              64   relu          False                 0.1 |\n",
            "+---------------------------------------------------------------------------------------------------------------------+\n",
            "\n",
            "\u001b[2m\u001b[36m(run_with_tune pid=2421)\u001b[0m \n",
            "Validation DataLoader 0:  21%|██▏       | 40/188 [00:00<00:03, 47.03it/s]\u001b[A\n",
            "\u001b[2m\u001b[36m(run_with_tune pid=2421)\u001b[0m \n",
            "Validation DataLoader 0:  32%|███▏      | 60/188 [00:01<00:02, 48.98it/s]\u001b[A\n",
            "\u001b[2m\u001b[36m(run_with_tune pid=2421)\u001b[0m \n",
            "Validation DataLoader 0:  43%|████▎     | 80/188 [00:01<00:02, 50.25it/s]\u001b[A\n",
            "\u001b[2m\u001b[36m(run_with_tune pid=2421)\u001b[0m \n",
            "Validation DataLoader 0:  53%|█████▎    | 100/188 [00:01<00:01, 50.80it/s]\u001b[A\n",
            "\u001b[2m\u001b[36m(run_with_tune pid=2421)\u001b[0m \n",
            "Validation DataLoader 0:  64%|██████▍   | 120/188 [00:02<00:01, 51.30it/s]\u001b[A\n",
            "\u001b[2m\u001b[36m(run_with_tune pid=2421)\u001b[0m \n",
            "Validation DataLoader 0:  74%|███████▍  | 140/188 [00:02<00:00, 52.14it/s]\u001b[A\n",
            "\u001b[2m\u001b[36m(run_with_tune pid=2421)\u001b[0m \n",
            "Validation DataLoader 0:  85%|████████▌ | 160/188 [00:03<00:00, 52.52it/s]\u001b[A\n",
            "\u001b[2m\u001b[36m(run_with_tune pid=2421)\u001b[0m \n",
            "Validation DataLoader 0:  96%|█████████▌| 180/188 [00:03<00:00, 52.37it/s]\u001b[A\n",
            "\u001b[2m\u001b[36m(run_with_tune pid=2421)\u001b[0m \n",
            "Validation DataLoader 0: 100%|██████████| 188/188 [00:03<00:00, 52.84it/s]\u001b[A\n"
          ]
        },
        {
          "output_type": "stream",
          "name": "stderr",
          "text": [
            "\u001b[2m\u001b[36m(run_with_tune pid=2421)\u001b[0m Metric time_total_s does not exist in `trainer.callback_metrics.\n",
            "2023-09-02 15:59:59,282\tWARNING tune.py:192 -- Stop signal received (e.g. via SIGINT/Ctrl+C), ending Ray Tune run. This will try to checkpoint the experiment state one last time. Press CTRL+C (or send SIGINT/SIGKILL/SIGTERM) to skip. \n",
            "2023-09-02 15:59:59,305\tWARNING tune.py:1163 -- Experiment has been interrupted, but the most recent state was saved.\n",
            "Resume experiment with: Tuner.restore(path=\"/root/ray_results/tune_mnist_asha\", trainable=...)\n",
            "2023-09-02 15:59:59,312\tWARNING experiment_analysis.py:916 -- Failed to read the results for 16 trials:\n",
            "- /root/ray_results/tune_mnist_asha/run_with_tune_b7795_00000_0_batch_size=64,lr=0.0100,mlp_af_l0=relu,mlp_bn_l0=True,mlp_do_l0=0.1000,mlp_out_l0=64_2023-09-02_15-59-37\n",
            "- /root/ray_results/tune_mnist_asha/run_with_tune_b7795_00001_1_batch_size=128,lr=0.0100,mlp_af_l0=relu,mlp_bn_l0=True,mlp_do_l0=0.1000,mlp_out_l0=64_2023-09-02_15-59-37\n",
            "- /root/ray_results/tune_mnist_asha/run_with_tune_b7795_00002_2_batch_size=256,lr=0.0100,mlp_af_l0=relu,mlp_bn_l0=True,mlp_do_l0=0.1000,mlp_out_l0=64_2023-09-02_15-59-37\n",
            "- /root/ray_results/tune_mnist_asha/run_with_tune_b7795_00003_3_batch_size=64,lr=0.1000,mlp_af_l0=relu,mlp_bn_l0=True,mlp_do_l0=0.1000,mlp_out_l0=64_2023-09-02_15-59-37\n",
            "- /root/ray_results/tune_mnist_asha/run_with_tune_b7795_00004_4_batch_size=128,lr=0.1000,mlp_af_l0=relu,mlp_bn_l0=True,mlp_do_l0=0.1000,mlp_out_l0=64_2023-09-02_15-59-37\n",
            "- /root/ray_results/tune_mnist_asha/run_with_tune_b7795_00005_5_batch_size=256,lr=0.1000,mlp_af_l0=relu,mlp_bn_l0=True,mlp_do_l0=0.1000,mlp_out_l0=64_2023-09-02_15-59-37\n",
            "- /root/ray_results/tune_mnist_asha/run_with_tune_b7795_00006_6_batch_size=64,lr=0.0100,mlp_af_l0=None,mlp_bn_l0=True,mlp_do_l0=0.1000,mlp_out_l0=64_2023-09-02_15-59-37\n",
            "- /root/ray_results/tune_mnist_asha/run_with_tune_b7795_00007_7_batch_size=128,lr=0.0100,mlp_af_l0=None,mlp_bn_l0=True,mlp_do_l0=0.1000,mlp_out_l0=64_2023-09-02_15-59-37\n",
            "- /root/ray_results/tune_mnist_asha/run_with_tune_b7795_00008_8_batch_size=256,lr=0.0100,mlp_af_l0=None,mlp_bn_l0=True,mlp_do_l0=0.1000,mlp_out_l0=64_2023-09-02_15-59-37\n",
            "- /root/ray_results/tune_mnist_asha/run_with_tune_b7795_00009_9_batch_size=64,lr=0.1000,mlp_af_l0=None,mlp_bn_l0=True,mlp_do_l0=0.1000,mlp_out_l0=64_2023-09-02_15-59-37\n",
            "- /root/ray_results/tune_mnist_asha/run_with_tune_b7795_00010_10_batch_size=128,lr=0.1000,mlp_af_l0=None,mlp_bn_l0=True,mlp_do_l0=0.1000,mlp_out_l0=64_2023-09-02_15-59-37\n",
            "- /root/ray_results/tune_mnist_asha/run_with_tune_b7795_00011_11_batch_size=256,lr=0.1000,mlp_af_l0=None,mlp_bn_l0=True,mlp_do_l0=0.1000,mlp_out_l0=64_2023-09-02_15-59-37\n",
            "- /root/ray_results/tune_mnist_asha/run_with_tune_b7795_00012_12_batch_size=64,lr=0.0100,mlp_af_l0=relu,mlp_bn_l0=False,mlp_do_l0=0.1000,mlp_out_l0=64_2023-09-02_15-59-37\n",
            "- /root/ray_results/tune_mnist_asha/run_with_tune_b7795_00013_13_batch_size=128,lr=0.0100,mlp_af_l0=relu,mlp_bn_l0=False,mlp_do_l0=0.1000,mlp_out_l0=64_2023-09-02_15-59-37\n",
            "- /root/ray_results/tune_mnist_asha/run_with_tune_b7795_00014_14_batch_size=256,lr=0.0100,mlp_af_l0=relu,mlp_bn_l0=False,mlp_do_l0=0.1000,mlp_out_l0=64_2023-09-02_15-59-37\n",
            "- /root/ray_results/tune_mnist_asha/run_with_tune_b7795_00015_15_batch_size=64,lr=0.1000,mlp_af_l0=relu,mlp_bn_l0=False,mlp_do_l0=0.1000,mlp_out_l0=64_2023-09-02_15-59-37\n"
          ]
        },
        {
          "output_type": "stream",
          "name": "stdout",
          "text": [
            "Trial status: 16 PENDING\n",
            "Current time: 2023-09-02 15:59:59. Total running time: 22s\n",
            "Logical resource usage: 0/2 CPUs, 0/1 GPUs\n",
            "+---------------------------------------------------------------------------------------------------------------------+\n",
            "| Trial name                  status       batch_size     lr     mlp_out_l0   mlp_af_l0     mlp_bn_l0       mlp_do_l0 |\n",
            "+---------------------------------------------------------------------------------------------------------------------+\n",
            "| run_with_tune_b7795_00000   PENDING              64   0.01             64   relu          True                  0.1 |\n",
            "| run_with_tune_b7795_00001   PENDING             128   0.01             64   relu          True                  0.1 |\n",
            "| run_with_tune_b7795_00002   PENDING             256   0.01             64   relu          True                  0.1 |\n",
            "| run_with_tune_b7795_00003   PENDING              64   0.1              64   relu          True                  0.1 |\n",
            "| run_with_tune_b7795_00004   PENDING             128   0.1              64   relu          True                  0.1 |\n",
            "| run_with_tune_b7795_00005   PENDING             256   0.1              64   relu          True                  0.1 |\n",
            "| run_with_tune_b7795_00006   PENDING              64   0.01             64   None          True                  0.1 |\n",
            "| run_with_tune_b7795_00007   PENDING             128   0.01             64   None          True                  0.1 |\n",
            "| run_with_tune_b7795_00008   PENDING             256   0.01             64   None          True                  0.1 |\n",
            "| run_with_tune_b7795_00009   PENDING              64   0.1              64   None          True                  0.1 |\n",
            "| run_with_tune_b7795_00010   PENDING             128   0.1              64   None          True                  0.1 |\n",
            "| run_with_tune_b7795_00011   PENDING             256   0.1              64   None          True                  0.1 |\n",
            "| run_with_tune_b7795_00012   PENDING              64   0.01             64   relu          False                 0.1 |\n",
            "| run_with_tune_b7795_00013   PENDING             128   0.01             64   relu          False                 0.1 |\n",
            "| run_with_tune_b7795_00014   PENDING             256   0.01             64   relu          False                 0.1 |\n",
            "| run_with_tune_b7795_00015   PENDING              64   0.1              64   relu          False                 0.1 |\n",
            "+---------------------------------------------------------------------------------------------------------------------+\n",
            "\n"
          ]
        }
      ]
    }
  ],
  "metadata": {
    "language_info": {
      "name": "python"
    },
    "orig_nbformat": 4,
    "colab": {
      "provenance": [],
      "gpuType": "T4"
    },
    "kernelspec": {
      "name": "python3",
      "display_name": "Python 3"
    },
    "accelerator": "GPU"
  },
  "nbformat": 4,
  "nbformat_minor": 0
}